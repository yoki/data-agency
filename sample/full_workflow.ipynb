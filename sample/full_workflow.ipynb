{
 "cells": [
  {
   "cell_type": "code",
   "execution_count": 1,
   "id": "41246d59",
   "metadata": {},
   "outputs": [],
   "source": [
    "%load_ext autoreload\n",
    "%autoreload 2\n",
    "%load_ext data_agency\n"
   ]
  },
  {
   "cell_type": "code",
   "execution_count": 3,
   "id": "f902969b",
   "metadata": {},
   "outputs": [
    {
     "data": {
      "text/html": [
       "\n",
       "        <style>\n",
       "            .jp-RenderedMarkdown p, .jp-RenderedMarkdown li {\n",
       "                font-size: 16px; /* Adjust paragraph and list item font size */\n",
       "            }\n",
       "            .jp-RenderedMarkdown h1 {\n",
       "                font-size: 32px; /* Adjust H1 font size */\n",
       "            }\n",
       "            .jp-RenderedMarkdown h2 {\n",
       "                font-size: 28px; /* Adjust H2 font size */\n",
       "            }\n",
       "        </style>\n",
       "        "
      ],
      "text/plain": [
       "<IPython.core.display.HTML object>"
      ]
     },
     "metadata": {},
     "output_type": "display_data"
    },
    {
     "data": {
      "text/markdown": [
       "**Search Filters:**\n",
       "| Source File | Level 1 | Level 2 | Level 3 |\n",
       "| --- | --- | --- | --- |\n",
       "| imf_ifs_monthly.csv | ifs_monthly | Inflation |  |\n"
      ],
      "text/plain": [
       "<IPython.core.display.Markdown object>"
      ]
     },
     "metadata": {},
     "output_type": "display_data"
    },
    {
     "data": {
      "text/markdown": [
       "Found 1 series matching query."
      ],
      "text/plain": [
       "<IPython.core.display.Markdown object>"
      ]
     },
     "metadata": {},
     "output_type": "display_data"
    },
    {
     "data": {
      "text/markdown": [
       "Category Selection is appropriate."
      ],
      "text/plain": [
       "<IPython.core.display.Markdown object>"
      ]
     },
     "metadata": {},
     "output_type": "display_data"
    },
    {
     "data": {
      "text/markdown": [
       "#### Analysis of Data Series for Query: \n",
       "The selected series, 'imf_ifs_monthly-c_pc', directly addresses the user's query for 'monthly cpi data'. This series represents Consumer Prices, indexed to 2010=100, and is available at a monthly frequency from the IMF's International Financial Statistics (IFS) dataset. This is a standard and reliable source for macroeconomic indicators, providing a direct measure of consumer price levels.\n",
       "\n",
       "#### Reason for selection:\n",
       " The series 'imf_ifs_monthly-c_pc' was selected because its description 'Consumer Prices (2010=100)' and its monthly frequency (indicated by 'imf_ifs_monthly' dataset) perfectly match the user's request for 'monthly cpi data'. It is the most relevant and direct match found in the raw search results.\n",
       "\n",
       "**Recommended Series:**\n"
      ],
      "text/plain": [
       "<IPython.core.display.Markdown object>"
      ]
     },
     "metadata": {},
     "output_type": "display_data"
    },
    {
     "data": {
      "text/html": [
       "<div>\n",
       "<style scoped>\n",
       "    .dataframe tbody tr th:only-of-type {\n",
       "        vertical-align: middle;\n",
       "    }\n",
       "\n",
       "    .dataframe tbody tr th {\n",
       "        vertical-align: top;\n",
       "    }\n",
       "\n",
       "    .dataframe thead th {\n",
       "        text-align: right;\n",
       "    }\n",
       "</style>\n",
       "<table border=\"1\" class=\"dataframe\">\n",
       "  <thead>\n",
       "    <tr style=\"text-align: right;\">\n",
       "      <th></th>\n",
       "      <th>series_code</th>\n",
       "      <th>variable_name</th>\n",
       "      <th>description</th>\n",
       "      <th>frequency</th>\n",
       "      <th>source_file</th>\n",
       "      <th>bilateral</th>\n",
       "    </tr>\n",
       "  </thead>\n",
       "  <tbody>\n",
       "    <tr>\n",
       "      <th>0</th>\n",
       "      <td>imf_ifs_monthly-c_pc</td>\n",
       "      <td>cpi_2010_100</td>\n",
       "      <td>Consumer Price Index (2010=100)</td>\n",
       "      <td>M</td>\n",
       "      <td>imf_ifs_monthly.csv</td>\n",
       "      <td>False</td>\n",
       "    </tr>\n",
       "  </tbody>\n",
       "</table>\n",
       "</div>"
      ],
      "text/plain": [
       "            series_code variable_name                      description  \\\n",
       "0  imf_ifs_monthly-c_pc  cpi_2010_100  Consumer Price Index (2010=100)   \n",
       "\n",
       "  frequency          source_file  bilateral  \n",
       "0         M  imf_ifs_monthly.csv      False  "
      ]
     },
     "metadata": {},
     "output_type": "display_data"
    },
    {
     "data": {
      "text/markdown": [
       "_all_meta dataframe has been created with all series metadata."
      ],
      "text/plain": [
       "<IPython.core.display.Markdown object>"
      ]
     },
     "metadata": {},
     "output_type": "display_data"
    }
   ],
   "source": [
    "# $ data find monthly cpi data"
   ]
  },
  {
   "cell_type": "code",
   "execution_count": 5,
   "id": "4441db88",
   "metadata": {},
   "outputs": [
    {
     "data": {
      "text/html": [
       "<div>\n",
       "<style scoped>\n",
       "    .dataframe tbody tr th:only-of-type {\n",
       "        vertical-align: middle;\n",
       "    }\n",
       "\n",
       "    .dataframe tbody tr th {\n",
       "        vertical-align: top;\n",
       "    }\n",
       "\n",
       "    .dataframe thead th {\n",
       "        text-align: right;\n",
       "    }\n",
       "</style>\n",
       "<table border=\"1\" class=\"dataframe\">\n",
       "  <thead>\n",
       "    <tr style=\"text-align: right;\">\n",
       "      <th></th>\n",
       "      <th>series_code</th>\n",
       "      <th>variable_name</th>\n",
       "      <th>description</th>\n",
       "      <th>frequency</th>\n",
       "      <th>source_file</th>\n",
       "      <th>bilateral</th>\n",
       "    </tr>\n",
       "  </thead>\n",
       "  <tbody>\n",
       "    <tr>\n",
       "      <th>0</th>\n",
       "      <td>imf_ifs_monthly-c_pc</td>\n",
       "      <td>cpi_2010_100</td>\n",
       "      <td>Consumer Price Index (2010=100)</td>\n",
       "      <td>M</td>\n",
       "      <td>imf_ifs_monthly.csv</td>\n",
       "      <td>False</td>\n",
       "    </tr>\n",
       "  </tbody>\n",
       "</table>\n",
       "</div>"
      ],
      "text/plain": [
       "            series_code variable_name                      description  \\\n",
       "0  imf_ifs_monthly-c_pc  cpi_2010_100  Consumer Price Index (2010=100)   \n",
       "\n",
       "  frequency          source_file  bilateral  \n",
       "0         M  imf_ifs_monthly.csv      False  "
      ]
     },
     "execution_count": 5,
     "metadata": {},
     "output_type": "execute_result"
    }
   ],
   "source": [
    "import pandas as pd\n",
    "import io\n",
    "\n",
    "cpi_m_meta_csv = \"\"\"series_code,variable_name,description,frequency,source_file,bilateral\n",
    "imf_ifs_monthly-c_pc,cpi_2010_100,Consumer Price Index (2010=100),M,imf_ifs_monthly.csv,False\n",
    "\"\"\"\n",
    "cpi_m_meta = pd.read_csv(io.StringIO(cpi_m_meta_csv))\n",
    "cpi_m_meta"
   ]
  },
  {
   "cell_type": "code",
   "execution_count": 6,
   "id": "8472e924",
   "metadata": {},
   "outputs": [
    {
     "data": {
      "text/markdown": [
       "Data loading code generated to cell below."
      ],
      "text/plain": [
       "<IPython.core.display.Markdown object>"
      ]
     },
     "metadata": {},
     "output_type": "display_data"
    }
   ],
   "source": [
    "# $ data load cpi_m_meta"
   ]
  },
  {
   "cell_type": "code",
   "execution_count": 7,
   "id": "745534eb",
   "metadata": {},
   "outputs": [],
   "source": [
    "from data_agency import load\n",
    "\n",
    "raw_data = load([cpi_m_meta])"
   ]
  },
  {
   "cell_type": "code",
   "execution_count": 8,
   "id": "609d34c9",
   "metadata": {},
   "outputs": [
    {
     "data": {
      "text/markdown": [
       "Starting to generate code for you..."
      ],
      "text/plain": [
       "<IPython.core.display.Markdown object>"
      ]
     },
     "metadata": {},
     "output_type": "display_data"
    },
    {
     "data": {
      "text/markdown": [],
      "text/plain": [
       "<IPython.core.display.Markdown object>"
      ]
     },
     "metadata": {},
     "output_type": "display_data"
    },
    {
     "name": "stdout",
     "output_type": "stream",
     "text": [
      "Docker image 'codegen-agent-runner:py313' not found, building...\n",
      "Successfully built image 'codegen-agent-runner:py313'\n"
     ]
    },
    {
     "data": {
      "text/markdown": [
       "**Execution Results (Attempt 1):**\n",
       "\n",
       "```\n",
       "\n",
       "```\n",
       "\n",
       "```stderr\n",
       "/inputs/code.py:38: FutureWarning: \n",
       "\n",
       "Passing `palette` without assigning `hue` is deprecated and will be removed in v0.14.0. Assign the `y` variable to `hue` and set `legend=False` for the same effect.\n",
       "\n",
       "  sns.barplot(x='annual_inflation', y='cname', data=top_20_inflation, palette='viridis')\n",
       "\n",
       "```"
      ],
      "text/plain": [
       "<IPython.core.display.Markdown object>"
      ]
     },
     "metadata": {},
     "output_type": "display_data"
    },
    {
     "data": {
      "text/markdown": [
       "**Code Assessment:** The generated code meets the requirements."
      ],
      "text/plain": [
       "<IPython.core.display.Markdown object>"
      ]
     },
     "metadata": {},
     "output_type": "display_data"
    },
    {
     "data": {
      "text/markdown": [
       "*Code has been saved to the next cell.*"
      ],
      "text/plain": [
       "<IPython.core.display.Markdown object>"
      ]
     },
     "metadata": {},
     "output_type": "display_data"
    }
   ],
   "source": [
    "#$ data analyze raw_data\n",
    "Calculate the annual inflation for the end-2024, and create bar chart of top 20 countries"
   ]
  },
  {
   "cell_type": "code",
   "execution_count": 9,
   "id": "0d1464e5",
   "metadata": {},
   "outputs": [
    {
     "name": "stderr",
     "output_type": "stream",
     "text": [
      "\u001b[96m[Tracebacks from site-packages are not shown]\u001b[0m\n",
      "\u001b[91m---------------------------------------------------------------------------\u001b[39m\n",
      "\u001b[91mModuleNotFoundError\u001b[39m                       Traceback (most recent call last)\n",
      "\u001b[96mCell\u001b[39m\u001b[96m \u001b[39m\u001b[32mIn[9]\u001b[39m\u001b[32m, line 5\u001b[39m\n",
      "\u001b[92m      3\u001b[39m \u001b[38;5;204mimport\u001b[39m\u001b[38;5;15m \u001b[39m\u001b[38;5;15mpandas\u001b[39m\u001b[38;5;15m \u001b[39m\u001b[38;5;81mas\u001b[39m\u001b[38;5;15m \u001b[39m\u001b[38;5;15mpd\u001b[39m\n",
      "\u001b[92m      4\u001b[39m \u001b[38;5;204mimport\u001b[39m\u001b[38;5;15m \u001b[39m\u001b[38;5;15mnumpy\u001b[39m\u001b[38;5;15m \u001b[39m\u001b[38;5;81mas\u001b[39m\u001b[38;5;15m \u001b[39m\u001b[38;5;15mnp\u001b[39m\n",
      "\u001b[92m----> \u001b[39m\u001b[92m5\u001b[39m \u001b[38;5;204mimport\u001b[39m\u001b[38;5;15m \u001b[39m\u001b[38;5;15mmatplotlib\u001b[39m\u001b[38;5;15m.\u001b[39m\u001b[38;5;15mpyplot\u001b[39m\u001b[38;5;15m \u001b[39m\u001b[38;5;81mas\u001b[39m\u001b[38;5;15m \u001b[39m\u001b[38;5;15mplt\u001b[39m\n",
      "\u001b[92m      6\u001b[39m \u001b[38;5;204mimport\u001b[39m\u001b[38;5;15m \u001b[39m\u001b[38;5;15mseaborn\u001b[39m\u001b[38;5;15m \u001b[39m\u001b[38;5;81mas\u001b[39m\u001b[38;5;15m \u001b[39m\u001b[38;5;15msns\u001b[39m\n",
      "\u001b[92m      8\u001b[39m \u001b[38;5;245m# Convert 'time' column to datetime objects\u001b[39m\n",
      "\n",
      "\u001b[91mModuleNotFoundError\u001b[39m: No module named 'matplotlib'\n"
     ]
    }
   ],
   "source": [
    "# User request: Calculate the annual inflation for the end-2024, and create bar chart of top 20 countries\n",
    "\n",
    "import pandas as pd\n",
    "import numpy as np\n",
    "import matplotlib.pyplot as plt\n",
    "import seaborn as sns\n",
    "\n",
    "# Convert 'time' column to datetime objects\n",
    "raw_data[\"time\"] = pd.to_datetime(raw_data[\"time\"])\n",
    "\n",
    "# Filter data for December of 2023 and 2024\n",
    "dec_2023_data = raw_data[(raw_data[\"time\"].dt.year == 2023) & (raw_data[\"time\"].dt.month == 12)]\n",
    "dec_2024_data = raw_data[(raw_data[\"time\"].dt.year == 2024) & (raw_data[\"time\"].dt.month == 12)]\n",
    "\n",
    "# Merge the two dataframes to get CPI for Dec 2023 and Dec 2024 for each country\n",
    "inflation_df = pd.merge(\n",
    "    dec_2023_data[[\"cname\", \"cpi_2010_100\"]],\n",
    "    dec_2024_data[[\"cname\", \"cpi_2010_100\"]],\n",
    "    on=\"cname\",\n",
    "    suffixes=(\"_2023_Dec\", \"_2024_Dec\"),\n",
    "    how=\"inner\",  # Use inner join to only include countries with data for both periods\n",
    ")\n",
    "\n",
    "# Calculate annual inflation\n",
    "# Inflation = ((CPI_Dec_2024 - CPI_Dec_2023) / CPI_Dec_2023) * 100\n",
    "inflation_df[\"annual_inflation\"] = (\n",
    "    (inflation_df[\"cpi_2010_100_2024_Dec\"] - inflation_df[\"cpi_2010_100_2023_Dec\"])\n",
    "    / inflation_df[\"cpi_2010_100_2023_Dec\"]\n",
    ") * 100\n",
    "\n",
    "# Drop rows where inflation could not be calculated (e.g., due to NaN CPI values or division by zero if CPI was 0)\n",
    "inflation_df.replace([np.inf, -np.inf], np.nan, inplace=True)\n",
    "inflation_df.dropna(subset=[\"annual_inflation\"], inplace=True)\n",
    "\n",
    "# Sort by inflation in descending order and get the top 20 countries\n",
    "top_20_inflation = inflation_df.sort_values(by=\"annual_inflation\", ascending=False).head(20)\n",
    "\n",
    "# Create the bar chart\n",
    "plt.figure(figsize=(12, 8))\n",
    "sns.barplot(x=\"annual_inflation\", y=\"cname\", data=top_20_inflation, palette=\"viridis\")\n",
    "plt.title(\"Top 20 Countries by Annual Inflation (End-2024 vs End-2023)\")\n",
    "plt.xlabel(\"Annual Inflation (%)\")\n",
    "plt.ylabel(\"Country Name\")\n",
    "plt.grid(axis=\"x\", linestyle=\"--\", alpha=0.7)\n",
    "plt.tight_layout()\n",
    "plt.show()"
   ]
  },
  {
   "cell_type": "code",
   "execution_count": null,
   "id": "c4808a25",
   "metadata": {},
   "outputs": [],
   "source": []
  }
 ],
 "metadata": {
  "kernelspec": {
   "display_name": "Python 3",
   "language": "python",
   "name": "python3"
  },
  "language_info": {
   "codemirror_mode": {
    "name": "ipython",
    "version": 3
   },
   "file_extension": ".py",
   "mimetype": "text/x-python",
   "name": "python",
   "nbconvert_exporter": "python",
   "pygments_lexer": "ipython3",
   "version": "3.13.7"
  }
 },
 "nbformat": 4,
 "nbformat_minor": 5
}
